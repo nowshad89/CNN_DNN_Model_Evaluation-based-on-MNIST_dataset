{
  "nbformat": 4,
  "nbformat_minor": 0,
  "metadata": {
    "colab": {
      "provenance": []
    },
    "kernelspec": {
      "name": "python3",
      "display_name": "Python 3"
    },
    "language_info": {
      "name": "python"
    }
  },
  "cells": [
    {
      "cell_type": "markdown",
      "source": [
        "#Problem Statement"
      ],
      "metadata": {
        "id": "sa9Du99C5sLG"
      }
    },
    {
      "cell_type": "markdown",
      "source": [
        "Using the MNIST dataset, build a classification model to classify a given image of a handwritten digit into one of 10 classes representing integer values from 0 to 9, inclusively. You have to use DNN and CNN with different loss functions as well as different optimization methods. Compare your results, and then select the best classification model for this datase"
      ],
      "metadata": {
        "id": "Kk370xsB53Ac"
      }
    },
    {
      "cell_type": "markdown",
      "source": [
        "#Dataset Summery"
      ],
      "metadata": {
        "id": "h6VMFO0k6Dme"
      }
    },
    {
      "cell_type": "markdown",
      "source": [
        "The MNIST dataset is a widely used benchmark dataset in the field of machine learning and computer vision. It stands for \"Modified National Institute of Standards and Technology\" and consists of a large collection of handwritten digits. The dataset serves as a standard benchmark for training and evaluating various machine learning algorithms, particularly those related to image recognition and classification tasks.\n",
        "\n",
        "\n",
        "**Here are some key characteristics and details about the MNIST dataset:**\n",
        "\n",
        "**Images:** The MNIST dataset contains grayscale images of handwritten digits, each in a 28x28 pixel format. Each pixel value represents the darkness of the pixel, with higher values indicating darker regions\n",
        "\n",
        "**Labels:** Each image in the dataset is associated with a label that indicates the digit it represents. The labels range from 0 to 9, covering all ten digits.\n",
        "\n",
        "**Size:** The dataset is divided into two main parts: a training set and a testing set. The training set contains 60,000 images, and the testing set contains 10,000 images.\n",
        "\n",
        "**Variability:** The dataset includes a diverse range of handwriting styles, making it suitable for testing the generalization ability of machine learning algorithms."
      ],
      "metadata": {
        "id": "mO5h9diY6J2v"
      }
    },
    {
      "cell_type": "markdown",
      "source": [
        "#Import Libraries"
      ],
      "metadata": {
        "id": "ggB6BJXlta-K"
      }
    },
    {
      "cell_type": "code",
      "execution_count": null,
      "metadata": {
        "id": "b_qwvhpxpTa6"
      },
      "outputs": [],
      "source": [
        "import tensorflow as tf\n",
        "from tensorflow.keras.datasets import mnist\n",
        "from tensorflow.keras.models import Sequential\n",
        "from tensorflow.keras.layers import Flatten, Dense, Conv2D, MaxPooling2D\n"
      ]
    },
    {
      "cell_type": "markdown",
      "source": [
        "Flatten: this layer is used to faltten the input data.it reshapes the input tensor into a 1D Vector.it is used to pass data to a fully connected neural network.\n",
        "\n",
        "**Dense:** it is used to connect all neurons feom the previous layer to all neurons in the current layer.\n",
        "\n",
        "**Conv 2D:** this layer is used to add 2D convolutional layer to the neural network.it is used to process grid-like data, for instance image data.\n",
        "\n",
        "**Maxpooling 2D:** it performs a downsampling operatation that reduces the spatial dimention of the input data whilw retaining important features.usually it is used in CNN."
      ],
      "metadata": {
        "id": "ZMT_zYRLwbiY"
      }
    },
    {
      "cell_type": "markdown",
      "source": [
        "#Load and Preprocess the Data"
      ],
      "metadata": {
        "id": "A3tlmQLmtjbp"
      }
    },
    {
      "cell_type": "code",
      "source": [
        "(x_train, y_train), (x_test, y_test) = mnist.load_data()\n",
        "\n",
        "x_train, x_test = x_train / 255.0, x_test / 255.0\n"
      ],
      "metadata": {
        "colab": {
          "base_uri": "https://localhost:8080/"
        },
        "id": "NXjG2AXmpYKR",
        "outputId": "54cd5f07-80ce-491f-f487-4395e161e1f4"
      },
      "execution_count": null,
      "outputs": [
        {
          "output_type": "stream",
          "name": "stdout",
          "text": [
            "Downloading data from https://storage.googleapis.com/tensorflow/tf-keras-datasets/mnist.npz\n",
            "11490434/11490434 [==============================] - 0s 0us/step\n"
          ]
        }
      ]
    },
    {
      "cell_type": "markdown",
      "source": [
        "it splits the MNIST dataset into training and testing sets.(/255)This operation divides each pixel value by 255.0. The purpose of this division is to scale the pixel values to a range between 0 and 1. The original pixel values are integers between 0 and 255 (grayscale images), and dividing by 255.0 scales them to a floating-point value between 0 and 1."
      ],
      "metadata": {
        "id": "y_6glBDWyqCd"
      }
    },
    {
      "cell_type": "markdown",
      "source": [
        "#Build and Train DNN Model with Different Loss and Optimizer"
      ],
      "metadata": {
        "id": "2HmlqqUCtrrF"
      }
    },
    {
      "cell_type": "code",
      "source": [
        "dnn_model = Sequential([\n",
        "    Flatten(input_shape=(28, 28)),\n",
        "    Dense(128, activation='relu'),\n",
        "    Dense(10, activation='softmax')\n",
        "])\n",
        "\n",
        "dnn_model.compile(optimizer='adam', loss='sparse_categorical_crossentropy', metrics=['accuracy'])\n",
        "\n",
        "dnn_history = dnn_model.fit(x_train, y_train, epochs=10, validation_data=(x_test, y_test))\n"
      ],
      "metadata": {
        "colab": {
          "base_uri": "https://localhost:8080/"
        },
        "id": "_QPv5reEpX6A",
        "outputId": "8f87f358-a784-4f66-bbcb-8a7813eda400"
      },
      "execution_count": null,
      "outputs": [
        {
          "output_type": "stream",
          "name": "stdout",
          "text": [
            "Epoch 1/10\n",
            "1875/1875 [==============================] - 9s 4ms/step - loss: 0.2562 - accuracy: 0.9261 - val_loss: 0.1343 - val_accuracy: 0.9591\n",
            "Epoch 2/10\n",
            "1875/1875 [==============================] - 9s 5ms/step - loss: 0.1120 - accuracy: 0.9674 - val_loss: 0.0938 - val_accuracy: 0.9704\n",
            "Epoch 3/10\n",
            "1875/1875 [==============================] - 9s 5ms/step - loss: 0.0767 - accuracy: 0.9764 - val_loss: 0.0767 - val_accuracy: 0.9760\n",
            "Epoch 4/10\n",
            "1875/1875 [==============================] - 8s 4ms/step - loss: 0.0576 - accuracy: 0.9825 - val_loss: 0.0829 - val_accuracy: 0.9742\n",
            "Epoch 5/10\n",
            "1875/1875 [==============================] - 11s 6ms/step - loss: 0.0446 - accuracy: 0.9860 - val_loss: 0.0738 - val_accuracy: 0.9776\n",
            "Epoch 6/10\n",
            "1875/1875 [==============================] - 13s 7ms/step - loss: 0.0350 - accuracy: 0.9891 - val_loss: 0.0799 - val_accuracy: 0.9750\n",
            "Epoch 7/10\n",
            "1875/1875 [==============================] - 14s 7ms/step - loss: 0.0283 - accuracy: 0.9913 - val_loss: 0.0787 - val_accuracy: 0.9769\n",
            "Epoch 8/10\n",
            "1875/1875 [==============================] - 9s 5ms/step - loss: 0.0220 - accuracy: 0.9930 - val_loss: 0.0748 - val_accuracy: 0.9771\n",
            "Epoch 9/10\n",
            "1875/1875 [==============================] - 9s 5ms/step - loss: 0.0180 - accuracy: 0.9946 - val_loss: 0.0740 - val_accuracy: 0.9792\n",
            "Epoch 10/10\n",
            "1875/1875 [==============================] - 7s 4ms/step - loss: 0.0161 - accuracy: 0.9948 - val_loss: 0.0774 - val_accuracy: 0.9783\n"
          ]
        }
      ]
    },
    {
      "cell_type": "markdown",
      "source": [
        "# Results for the DNN model over the 10 epochs"
      ],
      "metadata": {
        "id": "c1D40n1U8Xm2"
      }
    },
    {
      "cell_type": "markdown",
      "source": [
        "**Loss Decrease:** The \"loss\" value decreases significantly with each epoch, for both training and validation. This suggests that the model is effectively learning the features of the data and is gradually reducing the difference between its predicted labels and the true labels.\n",
        "\n",
        "**Training Accuracy:** The \"accuracy\" value for the training data increases steadily with each epoch. This indicates that the model is becoming more accurate in predicting the correct labels for the training images. The training accuracy reaches a high value of around 99.48% by the last epoch.\n",
        "\n",
        "**Validation Accuracy:** The \"val_accuracy\" value, representing the accuracy on the validation data, also increases with each epoch. This indicates that the model is generalizing well to new, unseen data. The validation accuracy reaches around 97.83% by the last epoch.\n",
        "\n",
        "**Overfitting:** The validation accuracy consistently lags behind the training accuracy, but the gap is not excessively large. This suggests that the model is not overfitting significantly and is still able to generalize well to the validation data.\n",
        "\n",
        "**Final Performance:** The model achieves a relatively high accuracy of around 97.83% on the validation set after 10 epochs. While this accuracy is slightly lower than the training accuracy, it is still a good performance for classifying handwritten digits.\n",
        "\n",
        "**Steady Progress:** Both the training and validation curves show relatively smooth and steady progress, which indicates stable learning throughout the training process.\n",
        "\n",
        "Overall, the training process demonstrates that the model is learning effectively and is capable of classifying handwritten digits with high accuracy"
      ],
      "metadata": {
        "id": "qOKTKEa98o5g"
      }
    },
    {
      "cell_type": "markdown",
      "source": [
        "#Build and Train CNN Model with Different Loss and Optimizer"
      ],
      "metadata": {
        "id": "3Zah7AGVtw2F"
      }
    },
    {
      "cell_type": "code",
      "source": [
        "x_train = x_train.reshape(x_train.shape[0], 28, 28, 1)\n",
        "x_test = x_test.reshape(x_test.shape[0], 28, 28, 1)\n",
        "\n",
        "cnn_model = Sequential([\n",
        "    Conv2D(32, (3, 3), activation='relu', input_shape=(28, 28, 1)),\n",
        "    MaxPooling2D((2, 2)),\n",
        "    Flatten(),\n",
        "    Dense(128, activation='relu'),\n",
        "    Dense(10, activation='softmax')\n",
        "])\n",
        "\n",
        "cnn_model.compile(optimizer='adam', loss='sparse_categorical_crossentropy', metrics=['accuracy'])\n",
        "\n",
        "cnn_history = cnn_model.fit(x_train, y_train, epochs=10, validation_data=(x_test, y_test))\n"
      ],
      "metadata": {
        "colab": {
          "base_uri": "https://localhost:8080/"
        },
        "id": "xJLOwrphpX3I",
        "outputId": "edb90cc1-708f-4cf1-a45e-90cd418507df"
      },
      "execution_count": null,
      "outputs": [
        {
          "output_type": "stream",
          "name": "stdout",
          "text": [
            "Epoch 1/10\n",
            "1875/1875 [==============================] - 50s 26ms/step - loss: 0.1484 - accuracy: 0.9557 - val_loss: 0.0642 - val_accuracy: 0.9783\n",
            "Epoch 2/10\n",
            "1875/1875 [==============================] - 46s 24ms/step - loss: 0.0498 - accuracy: 0.9846 - val_loss: 0.0494 - val_accuracy: 0.9840\n",
            "Epoch 3/10\n",
            "1875/1875 [==============================] - 46s 25ms/step - loss: 0.0315 - accuracy: 0.9905 - val_loss: 0.0398 - val_accuracy: 0.9870\n",
            "Epoch 4/10\n",
            "1875/1875 [==============================] - 47s 25ms/step - loss: 0.0205 - accuracy: 0.9934 - val_loss: 0.0532 - val_accuracy: 0.9845\n",
            "Epoch 5/10\n",
            "1875/1875 [==============================] - 46s 24ms/step - loss: 0.0142 - accuracy: 0.9952 - val_loss: 0.0524 - val_accuracy: 0.9859\n",
            "Epoch 6/10\n",
            "1875/1875 [==============================] - 45s 24ms/step - loss: 0.0111 - accuracy: 0.9962 - val_loss: 0.0519 - val_accuracy: 0.9859\n",
            "Epoch 7/10\n",
            "1875/1875 [==============================] - 50s 26ms/step - loss: 0.0081 - accuracy: 0.9975 - val_loss: 0.0567 - val_accuracy: 0.9856\n",
            "Epoch 8/10\n",
            "1875/1875 [==============================] - 46s 25ms/step - loss: 0.0060 - accuracy: 0.9978 - val_loss: 0.0508 - val_accuracy: 0.9872\n",
            "Epoch 9/10\n",
            "1875/1875 [==============================] - 45s 24ms/step - loss: 0.0058 - accuracy: 0.9980 - val_loss: 0.0533 - val_accuracy: 0.9873\n",
            "Epoch 10/10\n",
            "1875/1875 [==============================] - 47s 25ms/step - loss: 0.0051 - accuracy: 0.9984 - val_loss: 0.0611 - val_accuracy: 0.9873\n"
          ]
        }
      ]
    },
    {
      "cell_type": "markdown",
      "source": [
        "# Results for the CNN model over the 10 epochs"
      ],
      "metadata": {
        "id": "U1ZUiN067ckP"
      }
    },
    {
      "cell_type": "markdown",
      "source": [
        "**Loss Decrease:** The \"loss\" value represents the difference between the predicted labels and the true labels. In each epoch, both the training and validation loss decrease significantly. This indicates that the model is effectively learning from the data and reducing its prediction errors.\n",
        "\n",
        "**Training Accuracy:** The \"accuracy\" value for the training data steadily increases with each epoch. This means that the model is becoming more accurate in predicting the correct labels for the training images. The training accuracy reaches a high value of around 99.84% by the last epoch.\n",
        "\n",
        "**Validation Accuracy:** The \"val_accuracy\" value represents the accuracy of the model's predictions on the validation data. It also increases with each epoch, indicating that the model is generalizing well to new, unseen data. The validation accuracy reaches around 98.73% by the last epoch.\n",
        "\n",
        "**Overfitting:** Initially, the training accuracy increases more quickly than the validation accuracy, which is a common behavior. However, as the number of epochs increases, the gap between training and validation accuracy narrows. This suggests that the model is not overfitting and is generalizing well.\n",
        "\n",
        "**Final Performance:** The model achieves a high accuracy of around 98.73% on the validation set after 10 epochs. This indicates that the model has successfully learned to recognize and classify handwritten digits.\n",
        "\n",
        "**Stability:** The relatively steady increase in both training and validation accuracy over epochs suggests that the learning rate and model architecture are well-suited for the dataset. The model converges to a good solution without any drastic fluctuations.\n",
        "\n",
        "Overall, the training process shows that the model is learning and generalizing effectively, with a high accuracy on both the training and validation sets. This suggests that the model is well-suited for classifying handwritten digits using the MNIST dataset."
      ],
      "metadata": {
        "id": "kNDVm5bQ7svV"
      }
    },
    {
      "cell_type": "markdown",
      "source": [
        "#Model Evaluation"
      ],
      "metadata": {
        "id": "09hbps2nt1qQ"
      }
    },
    {
      "cell_type": "code",
      "source": [
        "import matplotlib.pyplot as plt\n",
        "\n",
        "plt.plot(dnn_history.history['accuracy'], label='DNN Train')\n",
        "plt.plot(dnn_history.history['val_accuracy'], label='DNN Val')\n",
        "plt.plot(cnn_history.history['accuracy'], label='CNN Train')\n",
        "plt.plot(cnn_history.history['val_accuracy'], label='CNN Val')\n",
        "plt.xlabel('Epoch')\n",
        "plt.ylabel('Accuracy')\n",
        "plt.legend(loc='lower right')\n",
        "plt.title('Training and Validation Accuracy')\n",
        "plt.show()\n"
      ],
      "metadata": {
        "colab": {
          "base_uri": "https://localhost:8080/",
          "height": 472
        },
        "id": "Ls_KNTO7pXyh",
        "outputId": "e7ce9fe6-6cf9-4552-daec-f505a700df47"
      },
      "execution_count": null,
      "outputs": [
        {
          "output_type": "display_data",
          "data": {
            "text/plain": [
              "<Figure size 640x480 with 1 Axes>"
            ],
            "image/png": "[encoded data removed]"
          },
          "metadata": {}
        }
      ]
    },
    {
      "cell_type": "markdown",
      "source": [
        "The model with heigher validation accuracy is generally prefered as the better performing model for unseen dataset.Here, From this plot we see that the accuray of the CNN models validation data is greater than the DNN model validation data.therefore we may conclude by saying that CNN is the best classification model for this dataset."
      ],
      "metadata": {
        "id": "t4V0zMsEuU7U"
      }
    }
  ]
}